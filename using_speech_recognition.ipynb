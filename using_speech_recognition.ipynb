{
 "cells": [
  {
   "cell_type": "code",
   "execution_count": 1,
   "metadata": {
    "ExecuteTime": {
     "end_time": "2021-07-08T06:15:25.150208Z",
     "start_time": "2021-07-08T06:14:47.503091Z"
    }
   },
   "outputs": [
    {
     "name": "stdout",
     "output_type": "stream",
     "text": [
      "Collecting SpeechRecognition\n",
      "  Downloading SpeechRecognition-3.8.1-py2.py3-none-any.whl (32.8 MB)\n",
      "Collecting moviepy\n",
      "  Using cached moviepy-1.0.3.tar.gz (388 kB)\n",
      "Requirement already satisfied: decorator<5.0,>=4.0.2 in c:\\users\\arjun janamatti\\anaconda3\\envs\\tf_nptel\\lib\\site-packages (from moviepy) (4.4.2)\n",
      "Requirement already satisfied: tqdm<5.0,>=4.11.2 in c:\\users\\arjun janamatti\\anaconda3\\envs\\tf_nptel\\lib\\site-packages (from moviepy) (4.48.2)\n",
      "Requirement already satisfied: requests<3.0,>=2.8.1 in c:\\users\\arjun janamatti\\anaconda3\\envs\\tf_nptel\\lib\\site-packages (from moviepy) (2.24.0)\n",
      "Collecting proglog<=1.0.0\n",
      "  Using cached proglog-0.1.9.tar.gz (10 kB)\n",
      "Requirement already satisfied: numpy>=1.17.3 in c:\\users\\arjun janamatti\\anaconda3\\envs\\tf_nptel\\lib\\site-packages (from moviepy) (1.18.5)\n",
      "Requirement already satisfied: imageio<3.0,>=2.5 in c:\\users\\arjun janamatti\\anaconda3\\envs\\tf_nptel\\lib\\site-packages (from moviepy) (2.9.0)\n",
      "Collecting imageio_ffmpeg>=0.2.0\n",
      "  Downloading imageio_ffmpeg-0.4.4-py3-none-win_amd64.whl (22.6 MB)\n",
      "Requirement already satisfied: urllib3!=1.25.0,!=1.25.1,<1.26,>=1.21.1 in c:\\users\\arjun janamatti\\anaconda3\\envs\\tf_nptel\\lib\\site-packages (from requests<3.0,>=2.8.1->moviepy) (1.25.9)\n",
      "Requirement already satisfied: chardet<4,>=3.0.2 in c:\\users\\arjun janamatti\\anaconda3\\envs\\tf_nptel\\lib\\site-packages (from requests<3.0,>=2.8.1->moviepy) (3.0.4)\n",
      "Requirement already satisfied: certifi>=2017.4.17 in c:\\users\\arjun janamatti\\anaconda3\\envs\\tf_nptel\\lib\\site-packages (from requests<3.0,>=2.8.1->moviepy) (2021.5.30)\n",
      "Requirement already satisfied: idna<3,>=2.5 in c:\\users\\arjun janamatti\\anaconda3\\envs\\tf_nptel\\lib\\site-packages (from requests<3.0,>=2.8.1->moviepy) (2.10)\n",
      "Requirement already satisfied: pillow in c:\\users\\arjun janamatti\\anaconda3\\envs\\tf_nptel\\lib\\site-packages (from imageio<3.0,>=2.5->moviepy) (7.2.0)\n",
      "Building wheels for collected packages: moviepy, proglog\n",
      "  Building wheel for moviepy (setup.py): started\n",
      "  Building wheel for moviepy (setup.py): finished with status 'done'\n",
      "  Created wheel for moviepy: filename=moviepy-1.0.3-py3-none-any.whl size=110732 sha256=f287a75570cb3ca60545d0003eed84687b9044e2eaa0860005ec217dbcfdb254\n",
      "  Stored in directory: c:\\users\\arjun janamatti\\appdata\\local\\pip\\cache\\wheels\\be\\dc\\17\\8b4d5a63bcd05dc44db7da57e193372ccd333617293f9deebe\n",
      "  Building wheel for proglog (setup.py): started\n",
      "  Building wheel for proglog (setup.py): finished with status 'done'\n",
      "  Created wheel for proglog: filename=proglog-0.1.9-py3-none-any.whl size=6153 sha256=7fd619e3db2c3df131a7ffcc0a0b1d5554f8c31bc97020665ec4c1470f613886\n",
      "  Stored in directory: c:\\users\\arjun janamatti\\appdata\\local\\pip\\cache\\wheels\\e7\\11\\a0\\7e65f734d33043735a557b1244569cca327353db9068158076\n",
      "Successfully built moviepy proglog\n",
      "Installing collected packages: SpeechRecognition, proglog, imageio-ffmpeg, moviepy\n",
      "Successfully installed SpeechRecognition-3.8.1 imageio-ffmpeg-0.4.4 moviepy-1.0.3 proglog-0.1.9\n"
     ]
    }
   ],
   "source": [
    "!pip install SpeechRecognition moviepy"
   ]
  },
  {
   "cell_type": "markdown",
   "metadata": {},
   "source": [
    "Import of required libraries"
   ]
  },
  {
   "cell_type": "code",
   "execution_count": 2,
   "metadata": {
    "ExecuteTime": {
     "end_time": "2021-07-08T06:15:27.342998Z",
     "start_time": "2021-07-08T06:15:25.183321Z"
    }
   },
   "outputs": [],
   "source": [
    "import speech_recognition as sr \n",
    "import moviepy.editor as mp"
   ]
  },
  {
   "cell_type": "markdown",
   "metadata": {},
   "source": [
    "Conversion from Video to Audio\n",
    "\n",
    "* I recommend converting it to wav format. It works great with the speech recognition library, which will be covered in the next step.\n"
   ]
  },
  {
   "cell_type": "code",
   "execution_count": null,
   "metadata": {},
   "outputs": [],
   "source": [
    "clip = mp.VideoFileClip('/content/drive/MyDrive/VID-20201217-WA0001.mp4') \n",
    " \n",
    "clip.audio.write_audiofile('/content/drive/MyDrive/converted.wav')"
   ]
  },
  {
   "cell_type": "code",
   "execution_count": 3,
   "metadata": {
    "ExecuteTime": {
     "end_time": "2021-07-08T06:16:30.055735Z",
     "start_time": "2021-07-08T06:16:30.043073Z"
    }
   },
   "outputs": [],
   "source": [
    "r = sr.Recognizer()"
   ]
  },
  {
   "cell_type": "code",
   "execution_count": null,
   "metadata": {},
   "outputs": [],
   "source": [
    "audio_file = sr.AudioFile('/content/drive/MyDrive/converted.wav')"
   ]
  },
  {
   "cell_type": "code",
   "execution_count": null,
   "metadata": {},
   "outputs": [],
   "source": [
    "with audio_file as source:\n",
    "    audio_file_read = r.listen(source)\n",
    "\n",
    "result = r.recognize_google(audio_file_read)"
   ]
  },
  {
   "cell_type": "code",
   "execution_count": null,
   "metadata": {},
   "outputs": [],
   "source": [
    "result"
   ]
  },
  {
   "cell_type": "markdown",
   "metadata": {},
   "source": [
    "### Text Extraction for Large videos"
   ]
  },
  {
   "cell_type": "code",
   "execution_count": 4,
   "metadata": {
    "ExecuteTime": {
     "end_time": "2021-07-08T06:17:43.903143Z",
     "start_time": "2021-07-08T06:17:38.434713Z"
    }
   },
   "outputs": [
    {
     "name": "stdout",
     "output_type": "stream",
     "text": [
      "Collecting pydub\n",
      "  Downloading pydub-0.25.1-py2.py3-none-any.whl (32 kB)\n",
      "Installing collected packages: pydub\n",
      "Successfully installed pydub-0.25.1\n"
     ]
    }
   ],
   "source": [
    "!pip install pydub"
   ]
  },
  {
   "cell_type": "code",
   "execution_count": 5,
   "metadata": {
    "ExecuteTime": {
     "end_time": "2021-07-08T06:17:45.594616Z",
     "start_time": "2021-07-08T06:17:45.531163Z"
    }
   },
   "outputs": [],
   "source": [
    "from pydub import AudioSegment \n",
    "from pydub.silence import split_on_silence \n",
    "import os"
   ]
  },
  {
   "cell_type": "code",
   "execution_count": 6,
   "metadata": {
    "ExecuteTime": {
     "end_time": "2021-07-08T06:18:20.082210Z",
     "start_time": "2021-07-08T06:18:20.051310Z"
    }
   },
   "outputs": [],
   "source": [
    "# create a speech recognition object\n",
    "r = sr.Recognizer()\n",
    "\n",
    "# a function that splits the audio file into chunks\n",
    "# and applies speech recognition\n",
    "\n",
    "def get_audio_path(video_path):  \n",
    "    '''\n",
    "    input the video path to get the audio path as output\n",
    "    '''\n",
    "    video_filename = (path_video.split('.')[0]).split('/')[-1]\n",
    "    b = (path_video.split('.')[0]).split('/')[:-1]\n",
    "    file_location = '/'.join(b)+'/'\n",
    "    return file_location+video_filename+'_audio.wav'\n",
    "\n",
    "\n",
    "def get_large_audio_transcription(path_video, path_audio):\n",
    "    \"\"\"\n",
    "    Splitting the large audio file into chunks\n",
    "    and apply speech recognition on each of these chunks\n",
    "    \"\"\"\n",
    "    # open the video file \n",
    "    clip = mp.VideoFileClip(path_video) \n",
    "    #  convert the video file to .wav file\n",
    "    clip.audio.write_audiofile(path_audio)\n",
    "    # open the audio file using pydub\n",
    "    sound = AudioSegment.from_wav(path_audio)  \n",
    "    # split audio sound where silence is 500 miliseconds or more and get chunks\n",
    "    chunks = split_on_silence(sound,\n",
    "        # experiment with this value for your target audio file\n",
    "        min_silence_len = 500,\n",
    "        # adjust this per requirement\n",
    "        silence_thresh = sound.dBFS-14,\n",
    "        # keep the silence for 1 second, adjustable as well\n",
    "        keep_silence=500,\n",
    "    )\n",
    "    folder_name = \"audio-chunks\"\n",
    "    # create a directory to store the audio chunks\n",
    "    if not os.path.isdir(folder_name):\n",
    "        os.mkdir(folder_name)\n",
    "    whole_text = \"\"\n",
    "    # process each chunk \n",
    "    for i, audio_chunk in enumerate(chunks, start=1):\n",
    "        # export audio chunk and save it in\n",
    "        # the `folder_name` directory.\n",
    "        chunk_filename = os.path.join(folder_name, f\"chunk{i}.wav\")\n",
    "        audio_chunk.export(chunk_filename, format=\"wav\")\n",
    "        # recognize the chunk\n",
    "        with sr.AudioFile(chunk_filename) as source:\n",
    "            audio_listened = r.record(source)\n",
    "            # try converting it to text\n",
    "            try:\n",
    "                text = r.recognize_google(audio_listened)\n",
    "            except sr.UnknownValueError as e:\n",
    "                print(\"Error:\", str(e))\n",
    "            else:\n",
    "                text = f\"{text.capitalize()}. \"\n",
    "                print(chunk_filename, \":\", text)\n",
    "                whole_text += text\n",
    "    # return the text for all chunks detected\n",
    "    return whole_text\n"
   ]
  },
  {
   "cell_type": "code",
   "execution_count": null,
   "metadata": {},
   "outputs": [],
   "source": [
    "path_video = '/content/drive/MyDrive/History of Swear Words Official Trailer Netflix.mp4'\n",
    "# /content/drive/MyDrive/Video.mp4\n",
    "result_1 = get_large_audio_transcription(path_video, get_audio_path(path_video))\n",
    "result_1"
   ]
  }
 ],
 "metadata": {
  "kernelspec": {
   "display_name": "Python 3",
   "language": "python",
   "name": "python3"
  },
  "language_info": {
   "codemirror_mode": {
    "name": "ipython",
    "version": 3
   },
   "file_extension": ".py",
   "mimetype": "text/x-python",
   "name": "python",
   "nbconvert_exporter": "python",
   "pygments_lexer": "ipython3",
   "version": "3.6.10"
  },
  "varInspector": {
   "cols": {
    "lenName": 16,
    "lenType": 16,
    "lenVar": 40
   },
   "kernels_config": {
    "python": {
     "delete_cmd_postfix": "",
     "delete_cmd_prefix": "del ",
     "library": "var_list.py",
     "varRefreshCmd": "print(var_dic_list())"
    },
    "r": {
     "delete_cmd_postfix": ") ",
     "delete_cmd_prefix": "rm(",
     "library": "var_list.r",
     "varRefreshCmd": "cat(var_dic_list()) "
    }
   },
   "types_to_exclude": [
    "module",
    "function",
    "builtin_function_or_method",
    "instance",
    "_Feature"
   ],
   "window_display": false
  }
 },
 "nbformat": 4,
 "nbformat_minor": 4
}
